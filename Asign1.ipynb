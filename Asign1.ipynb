{
 "cells": [
  {
   "cell_type": "code",
   "execution_count": 1,
   "metadata": {},
   "outputs": [],
   "source": [
    "#\n",
    "# H2 Assignment: Exploring Pandas in Python"
   ]
  },
  {
   "cell_type": "code",
   "execution_count": 5,
   "metadata": {},
   "outputs": [
    {
     "name": "stdout",
     "output_type": "stream",
     "text": [
      "Note: you may need to restart the kernel to use updated packages.\n"
     ]
    },
    {
     "name": "stderr",
     "output_type": "stream",
     "text": [
      "ERROR: You must give at least one requirement to install (see \"pip help install\")\n"
     ]
    }
   ],
   "source": [
    "# Part 1: Installation and Setup\n",
    "# Install pandas library.\n",
    "\n",
    "\n",
    "# Write the command to install the pandas library using pip.\n",
    "# Install numpy library.\n",
    "\n",
    "%pip install"
   ]
  },
  {
   "cell_type": "code",
   "execution_count": 6,
   "metadata": {},
   "outputs": [
    {
     "name": "stdout",
     "output_type": "stream",
     "text": [
      "Requirement already satisfied: keras in c:\\users\\bilal khan\\appdata\\local\\programs\\python\\python312\\lib\\site-packages (3.3.3)\n",
      "Requirement already satisfied: absl-py in c:\\users\\bilal khan\\appdata\\local\\programs\\python\\python312\\lib\\site-packages (from keras) (2.1.0)\n",
      "Requirement already satisfied: numpy in c:\\users\\bilal khan\\appdata\\local\\programs\\python\\python312\\lib\\site-packages (from keras) (1.26.4)\n",
      "Requirement already satisfied: rich in c:\\users\\bilal khan\\appdata\\local\\programs\\python\\python312\\lib\\site-packages (from keras) (13.7.1)\n",
      "Requirement already satisfied: namex in c:\\users\\bilal khan\\appdata\\local\\programs\\python\\python312\\lib\\site-packages (from keras) (0.0.8)\n",
      "Requirement already satisfied: h5py in c:\\users\\bilal khan\\appdata\\local\\programs\\python\\python312\\lib\\site-packages (from keras) (3.11.0)\n",
      "Requirement already satisfied: optree in c:\\users\\bilal khan\\appdata\\local\\programs\\python\\python312\\lib\\site-packages (from keras) (0.11.0)\n",
      "Requirement already satisfied: ml-dtypes in c:\\users\\bilal khan\\appdata\\local\\programs\\python\\python312\\lib\\site-packages (from keras) (0.4.0)\n",
      "Requirement already satisfied: typing-extensions>=4.0.0 in c:\\users\\bilal khan\\appdata\\local\\programs\\python\\python312\\lib\\site-packages (from optree->keras) (4.12.0)\n",
      "Requirement already satisfied: markdown-it-py>=2.2.0 in c:\\users\\bilal khan\\appdata\\local\\programs\\python\\python312\\lib\\site-packages (from rich->keras) (3.0.0)\n",
      "Requirement already satisfied: pygments<3.0.0,>=2.13.0 in c:\\users\\bilal khan\\appdata\\roaming\\python\\python312\\site-packages (from rich->keras) (2.18.0)\n",
      "Requirement already satisfied: mdurl~=0.1 in c:\\users\\bilal khan\\appdata\\local\\programs\\python\\python312\\lib\\site-packages (from markdown-it-py>=2.2.0->rich->keras) (0.1.2)\n",
      "Note: you may need to restart the kernel to use updated packages.\n"
     ]
    }
   ],
   "source": [
    "%pip install keras"
   ]
  },
  {
   "cell_type": "code",
   "execution_count": 7,
   "metadata": {},
   "outputs": [],
   "source": [
    "# Write the code to import the pandas library as pd.\n",
    "# Write the code to import the numpy library as np.\n",
    "\n",
    "import pandas as pd"
   ]
  },
  {
   "cell_type": "code",
   "execution_count": 8,
   "metadata": {},
   "outputs": [],
   "source": [
    "import numpy as np"
   ]
  },
  {
   "cell_type": "code",
   "execution_count": 12,
   "metadata": {},
   "outputs": [],
   "source": [
    "## H2 Part 2: Basic Data Structures"
   ]
  },
  {
   "cell_type": "code",
   "execution_count": 15,
   "metadata": {},
   "outputs": [
    {
     "name": "stdout",
     "output_type": "stream",
     "text": [
      "0    1.0\n",
      "1    3.0\n",
      "2    5.0\n",
      "3    NaN\n",
      "4    6.0\n",
      "5    8.0\n",
      "dtype: float64\n",
      "<class 'pandas.core.frame.DataFrame'>\n",
      "RangeIndex: 4 entries, 0 to 3\n",
      "Data columns (total 6 columns):\n",
      " #   Column  Non-Null Count  Dtype        \n",
      "---  ------  --------------  -----        \n",
      " 0   A       4 non-null      float64      \n",
      " 1   B       4 non-null      datetime64[s]\n",
      " 2   C       4 non-null      int64        \n",
      " 3   D       4 non-null      int32        \n",
      " 4   E       4 non-null      category     \n",
      " 5   F       4 non-null      object       \n",
      "dtypes: category(1), datetime64[s](1), float64(1), int32(1), int64(1), object(1)\n",
      "memory usage: 404.0+ bytes\n",
      "0    1.0\n",
      "1    3.0\n",
      "2    5.0\n",
      "3    NaN\n",
      "4    6.0\n",
      "5    8.0\n",
      "dtype: float64\n",
      "     A          B  C  D      E    F\n",
      "0  1.0 2024-01-01  1  3   test  foo\n",
      "1  1.0 2024-01-01  1  3  train  foo\n",
      "2  1.0 2024-01-01  1  3   test  foo\n",
      "3  1.0 2024-01-01  1  3  train  foo\n"
     ]
    }
   ],
   "source": [
    "# /* Create a Series.\n",
    "# Create a pandas Series with the values [1, 3, 5, np.nan, 6, 8].\n",
    "# Generate a Date Range.\n",
    "# Generate a date range starting from \"2024-01-01\" with a period of 6 days.\n",
    "# Create a DataFrame with Random Numbers.\n",
    "# Create a pandas DataFrame with 6 rows and 4 columns of random numbers, indexed by the date range generated in question 5, and columns named A, B, C, D.\n",
    "# Create a DataFrame with Different Data Types.\n",
    "# Create a pandas DataFrame with the following data:\n",
    "# A: 1.0\n",
    "# B: Timestamp \"2013-01-02\"\n",
    "# C: Series of 1 with index from 0 to 3, dtype \"float32\"\n",
    "# D: Array of [3, 3, 3, 3], dtype \"int32\"\n",
    "# E: Categorical [\"test\", \"train\", \"test\", \"train\"]\n",
    "# F: \"foo\"\n",
    "# Display Data Types.\n",
    "# Display the data types of each column in the DataFrame created in question 7.*/\n",
    "\n",
    "\n",
    "\n",
    "df= pd.Series([1,3,5,np.nan, 6,8])\n",
    "print(df)\n",
    "\n",
    "df2 = pd.DataFrame(\n",
    "    { \"A\":1.0,\n",
    "     \"B\": pd.Timestamp(\"20240101\"),\n",
    "     \"C\": pd.Series(1, index=(range(4))),\n",
    "     \"D\": np.array([3]*4, dtype=\"int32\"),\n",
    "     \"E\": pd.Categorical([\"test\", \"train\", \"test\", \"train\"]),\n",
    "     \"F\": \"foo\",\n",
    "    }\n",
    ")\n",
    "df2.head()\n",
    "df2.info()\n",
    "df2.tail(2)\n",
    "df2.index\n",
    "df2.columns\n",
    "df2.describe()\n",
    "df2.T\n",
    "print(df)\n",
    "print (df2)"
   ]
  },
  {
   "cell_type": "code",
   "execution_count": 17,
   "metadata": {},
   "outputs": [
    {
     "name": "stdout",
     "output_type": "stream",
     "text": [
      "                   A         B         C         D\n",
      "2024-01-01 -0.672586 -0.264465 -0.949952  2.261098\n",
      "2024-01-02  1.254541  1.061698 -0.402935 -1.080713\n",
      "2024-01-03 -0.758168  0.320831 -0.356677 -0.557104\n",
      "2024-01-04  2.703200 -0.183758 -0.097997  0.364504\n",
      "2024-01-05 -0.642490  1.119772 -0.641366 -0.851982\n",
      "2024-01-06 -1.210427 -0.721757  0.415478  0.585403\n",
      "DatetimeIndex(['2024-01-01', '2024-01-02', '2024-01-03', '2024-01-04',\n",
      "               '2024-01-05', '2024-01-06'],\n",
      "              dtype='datetime64[ns]', freq='D')\n"
     ]
    }
   ],
   "source": [
    "# Create a pandas DataFrame with 6 rows and 4 columns of random numbers, \n",
    "# indexed by the date range generated in question 5, and columns named A, B, C, D.\n",
    "\n",
    "df= pd.DataFrame(np.random.randn(6,4),index=dates, columns=list(\"ABCD\"))\n",
    "\n",
    "print(df)\n",
    "\n",
    "\n",
    "# Generate a date range starting from \"2024-01-01\" with a period of 6 days.\n",
    "\n",
    "dates=pd.date_range(\"20240101\", periods=6)\n",
    "print(dates)"
   ]
  },
  {
   "cell_type": "code",
   "execution_count": 19,
   "metadata": {},
   "outputs": [
    {
     "data": {
      "text/html": [
       "<div>\n",
       "<style scoped>\n",
       "    .dataframe tbody tr th:only-of-type {\n",
       "        vertical-align: middle;\n",
       "    }\n",
       "\n",
       "    .dataframe tbody tr th {\n",
       "        vertical-align: top;\n",
       "    }\n",
       "\n",
       "    .dataframe thead th {\n",
       "        text-align: right;\n",
       "    }\n",
       "</style>\n",
       "<table border=\"1\" class=\"dataframe\">\n",
       "  <thead>\n",
       "    <tr style=\"text-align: right;\">\n",
       "      <th></th>\n",
       "      <th>A</th>\n",
       "      <th>B</th>\n",
       "    </tr>\n",
       "  </thead>\n",
       "  <tbody>\n",
       "    <tr>\n",
       "      <th>0</th>\n",
       "      <td>1.0</td>\n",
       "      <td>2024-01-01</td>\n",
       "    </tr>\n",
       "    <tr>\n",
       "      <th>1</th>\n",
       "      <td>1.0</td>\n",
       "      <td>2024-01-01</td>\n",
       "    </tr>\n",
       "    <tr>\n",
       "      <th>2</th>\n",
       "      <td>1.0</td>\n",
       "      <td>2024-01-01</td>\n",
       "    </tr>\n",
       "    <tr>\n",
       "      <th>3</th>\n",
       "      <td>1.0</td>\n",
       "      <td>2024-01-01</td>\n",
       "    </tr>\n",
       "  </tbody>\n",
       "</table>\n",
       "</div>"
      ],
      "text/plain": [
       "     A          B\n",
       "0  1.0 2024-01-01\n",
       "1  1.0 2024-01-01\n",
       "2  1.0 2024-01-01\n",
       "3  1.0 2024-01-01"
      ]
     },
     "execution_count": 19,
     "metadata": {},
     "output_type": "execute_result"
    }
   ],
   "source": [
    "# Part 3: Viewing Data\n",
    "# View the First Few Rows.\n",
    "# Show the first 5 rows of the DataFrame created in question 6.\n",
    "\n",
    "\n",
    "\n",
    "df2.loc[:, [\"A\", \"B\"]]\n",
    "\n",
    "\n",
    "\n",
    "\n"
   ]
  },
  {
   "cell_type": "code",
   "execution_count": 20,
   "metadata": {},
   "outputs": [
    {
     "data": {
      "text/plain": [
       "A                    1.0\n",
       "B    2024-01-01 00:00:00\n",
       "C                      1\n",
       "D                      3\n",
       "E                  train\n",
       "F                    foo\n",
       "Name: 3, dtype: object"
      ]
     },
     "execution_count": 20,
     "metadata": {},
     "output_type": "execute_result"
    }
   ],
   "source": [
    "# View the Last Few Rows.\n",
    "# Show the last 3 rows of the DataFrame created in question 6.\n",
    "df2.iloc[3]"
   ]
  },
  {
   "cell_type": "code",
   "execution_count": null,
   "metadata": {},
   "outputs": [],
   "source": []
  }
 ],
 "metadata": {
  "kernelspec": {
   "display_name": "Python 3",
   "language": "python",
   "name": "python3"
  },
  "language_info": {
   "codemirror_mode": {
    "name": "ipython",
    "version": 3
   },
   "file_extension": ".py",
   "mimetype": "text/x-python",
   "name": "python",
   "nbconvert_exporter": "python",
   "pygments_lexer": "ipython3",
   "version": "3.12.3"
  }
 },
 "nbformat": 4,
 "nbformat_minor": 2
}
